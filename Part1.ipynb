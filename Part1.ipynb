{
 "cells": [
  {
   "cell_type": "markdown",
   "metadata": {},
   "source": [
    "# Red Round Sign Detection"
   ]
  },
  {
   "cell_type": "markdown",
   "metadata": {},
   "source": [
    "## Part 1 : Dataset"
   ]
  },
  {
   "cell_type": "markdown",
   "metadata": {},
   "source": [
    "The dataset used for this problem is GTSDB dataset. Below are some of the observations about the dataset:\n",
    "\n",
    "* Train dataset : 600 images\n",
    "\n",
    "* Test dataset : 300 images\n",
    "\n",
    "* Image size : 1360 x 800 x 3(one channel each for R, G and B)"
   ]
  },
  {
   "cell_type": "markdown",
   "metadata": {},
   "source": [
    "### Distribution of classes\n",
    "As we can see from the below plot, the dataset has class imbalance which makes it harder to classify the traffic sign to correct label. But in our case, since we are only concerned about object detection, class imbalance should not cause any issue."
   ]
  },
  {
   "cell_type": "code",
   "execution_count": 44,
   "metadata": {},
   "outputs": [
    {
     "data": {
      "image/png": "[encoded data removed]",
      "text/plain": [
       "<Figure size 1800x720 with 1 Axes>"
      ]
     },
     "metadata": {
      "needs_background": "light"
     },
     "output_type": "display_data"
    }
   ],
   "source": [
    "from __future__ import print_function, division\n",
    "import pandas as pd\n",
    "import matplotlib.pyplot as plt\n",
    "import numpy as np\n",
    "import os\n",
    "import torch\n",
    "from skimage import io, transform\n",
    "from torch.utils.data import Dataset, DataLoader\n",
    "from torchvision import transforms, utils\n",
    "\n",
    "# Ignore warnings\n",
    "import warnings\n",
    "warnings.filterwarnings(\"ignore\")\n",
    "\n",
    "dataset = pd.read_csv(\"traffic_sign/TrainIJCNN2013/gt.txt\", sep=';', header = None)\n",
    "plt.figure(figsize=(25,10))\n",
    "n_classes = len(np.unique([dataset.iloc[:,-1]]))\n",
    "hist, bins = np.histogram([dataset.iloc[:,-1]], bins=n_classes)\n",
    "width = 0.7 * (bins[1] - bins[0])\n",
    "center = (bins[:-1] + bins[1:]) / 2\n",
    "plt.bar(center, hist, align='center', width=width)\n",
    "\n",
    "plt.title('Training data: Distribution of images among classes', fontsize=18)\n",
    "plt.xlabel('Class', fontsize=18)\n",
    "plt.ylabel('Number of images', fontsize=18)\n",
    "\n",
    "plt.show()"
   ]
  },
  {
   "cell_type": "markdown",
   "metadata": {},
   "source": [
    "## Loading the data using dataloader (PyTorch)"
   ]
  },
  {
   "cell_type": "markdown",
   "metadata": {},
   "source": [
    "### Creating the dataset class\n",
    "Reference: https://pytorch.org/tutorials/beginner/data_loading_tutorial.html\n",
    "\n",
    "_torch.utils.data.Dataset_ is an abstract class representing a dataset. \n",
    "\n",
    "GTSDBDataset inherits this class and overrides following method: \\_\\_len__ and \\_\\_getitem__"
   ]
  },
  {
   "cell_type": "code",
   "execution_count": 45,
   "metadata": {},
   "outputs": [],
   "source": [
    "class GTSDBDataset(Dataset):\n",
    "    def __init__(self, csv_file, root_dir, transform=None):\n",
    "        \"\"\"\n",
    "        Args:\n",
    "            csv_file (string): Path to the csv file with annotations.\n",
    "            root_dir (string): Directory with all the images.\n",
    "            transform (callable, optional): Optional transform to be applied\n",
    "                on a sample.\n",
    "        \"\"\"\n",
    "        self.landmarks_frame = pd.read_csv(csv_file, sep=';')\n",
    "        self.root_dir = root_dir\n",
    "        self.transform = transform\n",
    "    \n",
    "    def __len__(self):\n",
    "        return len(self.landmarks_frame)\n",
    "    \n",
    "    def __getitem__(self, idx):\n",
    "        img_name = os.path.join(self.root_dir,\n",
    "                                self.landmarks_frame.iloc[idx, 0])\n",
    "        image = io.imread(img_name)\n",
    "        landmarks = self.landmarks_frame.iloc[idx, 1:-1].as_matrix()\n",
    "        landmarks = landmarks.astype('float').reshape(-1, 1)\n",
    "        sample = {'image': image, 'landmarks': landmarks}\n",
    "        if self.transform:\n",
    "            sample['image'] = self.transform(image)\n",
    "        return sample"
   ]
  },
  {
   "cell_type": "markdown",
   "metadata": {},
   "source": [
    "## Data Loader and Transforms"
   ]
  },
  {
   "cell_type": "markdown",
   "metadata": {},
   "source": [
    "### Handling data size"
   ]
  },
  {
   "cell_type": "markdown",
   "metadata": {},
   "source": [
    "_torch.utils.data.DataLoader_ is an iterator to iterate through the data set. It provides multiple features which solve most of the problems we face with the data:\n",
    "* Shuffling the data: Shuffling the order of data samples makes the model robust and helps to achieve better results as in each pass(epoch) we will feed a different set of batches.\n",
    "\n",
    "* Batching and multiprocessing the data: Feeding the data samples in batches with multiple processors producing the batches makes data preparation process (for training) more efficient.\n",
    "\n",
    "* Resizing the image: Resizing to scale down the image solves the problem of input size, but Region of Interest (ROI) needs to be changed accordingly. This approach might fail if the ROI is near edges of the image. But, in real world application of self-driving cars, if a sign board is too far, it might not be relevant at current time.\n"
   ]
  },
  {
   "cell_type": "code",
   "execution_count": 101,
   "metadata": {},
   "outputs": [],
   "source": [
    "gtsdb_datasets = []\n",
    "data_transforms = {'Brightness':[0.8,1.3,1.5], 'Contrast':[0.1, 0.4]}\n",
    "for b in data_transforms['Brightness']:\n",
    "    for c in data_transforms['Contrast']:\n",
    "        gtsdb_dataset = GTSDBDataset(csv_file = 'traffic_sign/TrainIJCNN2013/gt.txt',\n",
    "                                    root_dir = 'traffic_sign/TrainIJCNN2013/',\n",
    "                                    transform=transforms.Compose([\n",
    "                                    transforms.ToPILImage(),\n",
    "                                    transforms.ColorJitter(brightness=b,contrast=c, saturation=0.0),\n",
    "                                    transforms.ToTensor()\n",
    "                                     ]))\n",
    "        gtsdb_datasets.append(gtsdb_dataset)"
   ]
  },
  {
   "cell_type": "code",
   "execution_count": 102,
   "metadata": {},
   "outputs": [],
   "source": [
    "dataloaders = []\n",
    "for dataset in gtsdb_datasets:\n",
    "    dataloader = DataLoader(dataset, batch_size=4,\n",
    "                        shuffle=False, num_workers=1)\n",
    "    dataloaders.append(dataloader)"
   ]
  },
  {
   "cell_type": "markdown",
   "metadata": {},
   "source": [
    "### Handling different weather and lighting conditions : Transforms"
   ]
  },
  {
   "cell_type": "markdown",
   "metadata": {},
   "source": [
    "Data augumentation (horizontal flipping, image rotation and mirror images) and transformation (changing brightness and contrast of the images, resizing, rescaling) is a common technique to improve model performance in Deep Learning. \n",
    "\n",
    "_torchvision.transforms.Compose_ is a simple callable class used to transform the images. To handle the weather and lighting conditions, we apply the ColorJitter transformation which changes the brightness and contrast of the images."
   ]
  },
  {
   "cell_type": "code",
   "execution_count": null,
   "metadata": {},
   "outputs": [],
   "source": [
    "images = []\n",
    "for dataloader in dataloaders:\n",
    "    for i_batch, sample_batched in enumerate(dataloader):\n",
    "\n",
    "        if i_batch == 0:\n",
    "            image = sample_batched['image'][0]\n",
    "            image = np.transpose(image.numpy(), (1, 2, 0))\n",
    "            images.append(image)\n",
    "            break"
   ]
  },
  {
   "cell_type": "code",
   "execution_count": null,
   "metadata": {},
   "outputs": [],
   "source": [
    "f, axarr = plt.subplots(2,3,figsize=(15,8))\n",
    "r = 0;c = 0\n",
    "for i in range(len(images)):\n",
    "    axarr[r,c].imshow(images[i], interpolation='nearest')\n",
    "    if c == 2: c = 0;r = r+1\n",
    "    else: c = c+1\n"
   ]
  },
  {
   "cell_type": "markdown",
   "metadata": {},
   "source": [
    "### Conclusion:\n",
    "This document showcases basic analysis of the dataset. As the model is trained, we might need to introduce more data augumentation/transformation based on the model performance and will be included in next parts (Part 2 & 3)."
   ]
  }
 ],
 "metadata": {
  "kernelspec": {
   "display_name": "Python 3",
   "language": "python",
   "name": "python3"
  },
  "language_info": {
   "codemirror_mode": {
    "name": "ipython",
    "version": 3
   },
   "file_extension": ".py",
   "mimetype": "text/x-python",
   "name": "python",
   "nbconvert_exporter": "python",
   "pygments_lexer": "ipython3",
   "version": "3.7.1"
  }
 },
 "nbformat": 4,
 "nbformat_minor": 2
}
